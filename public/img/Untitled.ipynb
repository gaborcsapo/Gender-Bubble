{
 "cells": [
  {
   "cell_type": "code",
   "execution_count": 13,
   "metadata": {},
   "outputs": [
    {
     "name": "stdout",
     "output_type": "stream",
     "text": [
      "[{'bar': ['baz', None, 1.0, 2]}, {'bar': ['baz', None, 1.0, 2]}, {'bar': ('baz', None, 1.0, 2)}, {'bar': ('baz', None, 1.0, 2)}]\n",
      "2\n",
      "2\n",
      "[{'bar': ['baz', None, 1.0, 2]}, {'bar': ['baz', None, 1.0, 2]}, {'bar': ['baz', None, 1.0, 2]}, {'bar': ['baz', None, 1.0, 2]}]\n"
     ]
    }
   ],
   "source": [
    "import json\n",
    "x = [{'bar': ('baz', None, 1.0, 2)}, {'bar': ('baz', None, 1.0, 2)}]\n",
    "z = json.dumps(x)\n",
    "y = [{'bar': ('baz', None, 1.0, 2)}, {'bar': ('baz', None, 1.0, 2)}]\n",
    "q = json.loads(z)\n",
    "t = q+y\n",
    "print(t)\n",
    "print(t[1]['bar'][3])\n",
    "print(t[3]['bar'][3])\n",
    "print(json.loads(json.dumps(t)))"
   ]
  },
  {
   "cell_type": "code",
   "execution_count": 17,
   "metadata": {},
   "outputs": [
    {
     "name": "stdout",
     "output_type": "stream",
     "text": [
      "cdn-images-1.medium.com\n"
     ]
    }
   ],
   "source": [
    "import re\n",
    "text = 'cdn-images-1.medium.com-0.jpg'\n",
    "m = re.search('.*(?=-)', text)\n",
    "if m:\n",
    "    found = m.group(0)\n",
    "else:\n",
    "    found = ''\n",
    "print(found)"
   ]
  },
  {
   "cell_type": "code",
   "execution_count": 29,
   "metadata": {},
   "outputs": [
    {
     "name": "stdout",
     "output_type": "stream",
     "text": [
      "[{'domain': 'instfngfnfgngfagram.ffjr1-1.fna.fbcdn.net', 'female': 0, 'male': 1}, {'domain': 'instagram.ffjr1-1.fna.fbcdn.net', 'female': 0, 'male': 26}]\n"
     ]
    }
   ],
   "source": [
    "data = [{\"male\": 1, \"female\": 0, \"domain\": \"instfngfnfgngfagram.ffjr1-1.fna.fbcdn.net\"}, {\"male\": 1, \"female\": 0, \"domain\": \"instagram.ffjr1-1.fna.fbcdn.net\"}, {\"male\": 1, \"female\": 0, \"domain\": \"instagram.ffjr1-1.fna.fbcdn.net\"}, {\"male\": 1, \"female\": 0, \"domain\": \"instagram.ffjr1-1.fna.fbcdn.net\"}, {\"male\": 1, \"female\": 0, \"domain\": \"instagram.ffjr1-1.fna.fbcdn.net\"}, {\"male\": 1, \"female\": 0, \"domain\": \"instagram.ffjr1-1.fna.fbcdn.net\"}, {\"male\": 1, \"female\": 0, \"domain\": \"instagram.ffjr1-1.fna.fbcdn.net\"}, {\"male\": 1, \"female\": 0, \"domain\": \"instagram.ffjr1-1.fna.fbcdn.net\"}, {\"male\": 1, \"female\": 0, \"domain\": \"instagram.ffjr1-1.fna.fbcdn.net\"}, {\"male\": 1, \"female\": 0, \"domain\": \"instagram.ffjr1-1.fna.fbcdn.net\"}, {\"male\": 1, \"female\": 0, \"domain\": \"instagram.ffjr1-1.fna.fbcdn.net\"}, {\"male\": 1, \"female\": 0, \"domain\": \"instagram.ffjr1-1.fna.fbcdn.net\"}, {\"male\": 1, \"female\": 0, \"domain\": \"instagram.ffjr1-1.fna.fbcdn.net\"}, {\"male\": 1, \"female\": 0, \"domain\": \"instagram.ffjr1-1.fna.fbcdn.net\"}, {\"male\": 1, \"female\": 0, \"domain\": \"instagram.ffjr1-1.fna.fbcdn.net\"}, {\"male\": 1, \"female\": 0, \"domain\": \"instagram.ffjr1-1.fna.fbcdn.net\"}, {\"male\": 1, \"female\": 0, \"domain\": \"instagram.ffjr1-1.fna.fbcdn.net\"}, {\"male\": 1, \"female\": 0, \"domain\": \"instagram.ffjr1-1.fna.fbcdn.net\"}, {\"male\": 1, \"female\": 0, \"domain\": \"instagram.ffjr1-1.fna.fbcdn.net\"}, {\"male\": 1, \"female\": 0, \"domain\": \"instagram.ffjr1-1.fna.fbcdn.net\"}, {\"male\": 1, \"female\": 0, \"domain\": \"instagram.ffjr1-1.fna.fbcdn.net\"}, {\"male\": 1, \"female\": 0, \"domain\": \"instagram.ffjr1-1.fna.fbcdn.net\"}, {\"male\": 1, \"female\": 0, \"domain\": \"instagram.ffjr1-1.fna.fbcdn.net\"}, {\"male\": 1, \"female\": 1, \"domain\": \"instagram.ffjr1-1.fna.fbcdn.net\"}, {\"male\": 1, \"female\": 0, \"domain\": \"instagram.ffjr1-1.fna.fbcdn.net\"}, {\"male\": 1, \"female\": 0, \"domain\": \"instagram.ffjr1-1.fna.fbcdn.net\"}, {\"male\": 0, \"female\": 1, \"domain\": \"instagram.ffjr1-1.fna.fbcdn.net\"}, {\"male\": 0, \"female\": 2, \"domain\": \"instagram.ffjr1-1.fna.fbcdn.net\"}, {\"male\": 0, \"female\": 1, \"domain\": \"instagram.ffjr1-1.fna.fbcdn.net\"}, {\"male\": 1, \"female\": 0, \"domain\": \"instagram.ffjr1-1.fna.fbcdn.net\"}, {\"male\": 0, \"female\": 1, \"domain\": \"instagram.ffjr1-1.fna.fbcdn.net\"}]\n",
    "my_dict = {}\n",
    "for b in data:\n",
    "    if (b['domain'] in my_dict):\n",
    "        my_dict[b['domain']]['male'] += b['male']\n",
    "    else:\n",
    "        my_dict[b['domain']] = {}\n",
    "        my_dict[b['domain']]['male'] = b['male']\n",
    "        my_dict[b['domain']]['female'] = b['female']\n",
    "a =[{'domain': key, 'female': value['female'], 'male': value['male']} for key, value in my_dict.items()]\n",
    "\n",
    "\n",
    "\n",
    "print (a)\n"
   ]
  },
  {
   "cell_type": "code",
   "execution_count": 30,
   "metadata": {},
   "outputs": [
    {
     "name": "stdout",
     "output_type": "stream",
     "text": [
      "8\n"
     ]
    }
   ],
   "source": [
    "def f(self, i):\n",
    "    return self.f(i-1)+self.f(i-2)\n",
    "\n",
    "class A:\n",
    "    def f(self, i):\n",
    "        if i < 0:\n",
    "            return 1\n",
    "        return i + f(self, i)\n",
    "    \n",
    "a=A()\n",
    "print(a.f(2))"
   ]
  },
  {
   "cell_type": "markdown",
   "metadata": {},
   "source": [
    "in the print statement we are calling A's f function with 2\n",
    "If the input is not smaller than 0 ===>  we return 2 + outsidef(self, 2)\n",
    "The outside function ===> return a.f(1) + a.f(0) ///I'll break it down into two sections\n",
    "\n",
    "1. a.f(0) \n",
    "a.f(0) is class A's f ffunction. \n",
    "I is not less than 0 ===> we return 0 + outsidef(self, 0)\n",
    "The outsidef(self, 0) ===> returns a.f(-1)+ a.f(-2). Both inputs are less than 0 therefore they both return 1.\n",
    "Going backwards : a.f(-1)+ a.f(-2) = 2 ====> 0 + f(self, 0) = 0 + 2 ===> a.f(0) = 2\n",
    "#### a.f(0) = 2\n",
    "\n",
    "2. a.f(1)\n",
    "a.f(1) is the class A's f function with value 1 ===> return 1 + outside f(self, 1)\n",
    "\n",
    "f(self, 1) returns a.f(0) + a.f(-1)\n",
    "Looking back at the previous case, we know that a.f(0) returns 2, and a.f(-1) returns 1.\n",
    "#### a.f(1) = 4\n",
    "\n",
    "Summing everything up a.f(2) = 2 + 2 + 4 = 8\n"
   ]
  }
 ],
 "metadata": {
  "kernelspec": {
   "display_name": "Python 3",
   "language": "python",
   "name": "python3"
  },
  "language_info": {
   "codemirror_mode": {
    "name": "ipython",
    "version": 3
   },
   "file_extension": ".py",
   "mimetype": "text/x-python",
   "name": "python",
   "nbconvert_exporter": "python",
   "pygments_lexer": "ipython3",
   "version": "3.6.2"
  }
 },
 "nbformat": 4,
 "nbformat_minor": 2
}
